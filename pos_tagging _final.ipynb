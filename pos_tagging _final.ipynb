{
 "cells": [
  {
   "cell_type": "code",
   "execution_count": 1,
   "id": "7d859fd3",
   "metadata": {},
   "outputs": [],
   "source": [
    "import keras\n",
    "import tensorflow\n",
    "import matplotlib.pyplot as plt\n",
    "import pandas as pd\n",
    "import numpy as np\n",
    "from keras.models import Sequential,Model\n",
    "from keras.layers import InputLayer,Dense,Embedding,SimpleRNN,LSTM,Bidirectional,Masking,TimeDistributed\n",
    "from sklearn.model_selection import train_test_split\n",
    "import nltk\n",
    "from nltk.tokenize import word_tokenize\n",
    "from nltk.corpus import brown,treebank\n",
    "from tensorflow.keras.preprocessing.text import Tokenizer\n",
    "### Perform text preprocessing"
   ]
  },
  {
   "cell_type": "code",
   "execution_count": 2,
   "id": "d2a4ac49",
   "metadata": {},
   "outputs": [
    {
     "data": {
      "text/plain": [
       "<CategorizedTaggedCorpusReader in 'C:\\\\Users\\\\DELL\\\\AppData\\\\Roaming\\\\nltk_data\\\\corpora\\\\brown'>"
      ]
     },
     "execution_count": 2,
     "metadata": {},
     "output_type": "execute_result"
    }
   ],
   "source": [
    "brown"
   ]
  },
  {
   "cell_type": "code",
   "execution_count": 3,
   "id": "b5dbb769",
   "metadata": {},
   "outputs": [],
   "source": [
    "#nltk.download('brown')"
   ]
  },
  {
   "cell_type": "code",
   "execution_count": 4,
   "id": "1edcc661",
   "metadata": {},
   "outputs": [
    {
     "data": {
      "text/plain": [
       "[['The', 'Fulton', 'County', 'Grand', 'Jury', 'said', 'Friday', 'an', 'investigation', 'of', \"Atlanta's\", 'recent', 'primary', 'election', 'produced', '``', 'no', 'evidence', \"''\", 'that', 'any', 'irregularities', 'took', 'place', '.'], ['The', 'jury', 'further', 'said', 'in', 'term-end', 'presentments', 'that', 'the', 'City', 'Executive', 'Committee', ',', 'which', 'had', 'over-all', 'charge', 'of', 'the', 'election', ',', '``', 'deserves', 'the', 'praise', 'and', 'thanks', 'of', 'the', 'City', 'of', 'Atlanta', \"''\", 'for', 'the', 'manner', 'in', 'which', 'the', 'election', 'was', 'conducted', '.'], ...]"
      ]
     },
     "execution_count": 4,
     "metadata": {},
     "output_type": "execute_result"
    }
   ],
   "source": [
    "brown.sents()"
   ]
  },
  {
   "cell_type": "code",
   "execution_count": 5,
   "id": "ad8615d7",
   "metadata": {},
   "outputs": [
    {
     "data": {
      "text/plain": [
       "57340"
      ]
     },
     "execution_count": 5,
     "metadata": {},
     "output_type": "execute_result"
    }
   ],
   "source": [
    "len(brown.sents())"
   ]
  },
  {
   "cell_type": "code",
   "execution_count": 6,
   "id": "6d025bbe",
   "metadata": {},
   "outputs": [
    {
     "data": {
      "text/plain": [
       "\"The Fulton County Grand Jury said Friday an investigation of Atlanta's recent primary election produced `` no evidence '' that any irregularities took place .\""
      ]
     },
     "execution_count": 6,
     "metadata": {},
     "output_type": "execute_result"
    }
   ],
   "source": [
    "\" \".join(brown.sents()[0])"
   ]
  },
  {
   "cell_type": "code",
   "execution_count": 7,
   "id": "cfe60b0e",
   "metadata": {},
   "outputs": [
    {
     "data": {
      "text/plain": [
       "<BracketParseCorpusReader in 'C:\\\\Users\\\\DELL\\\\AppData\\\\Roaming\\\\nltk_data\\\\corpora\\\\treebank\\\\combined'>"
      ]
     },
     "execution_count": 7,
     "metadata": {},
     "output_type": "execute_result"
    }
   ],
   "source": [
    "treebank"
   ]
  },
  {
   "cell_type": "code",
   "execution_count": 8,
   "id": "7ba51a6c",
   "metadata": {},
   "outputs": [],
   "source": [
    "#nltk.download('treebank')"
   ]
  },
  {
   "cell_type": "code",
   "execution_count": 9,
   "id": "c3b19880",
   "metadata": {},
   "outputs": [
    {
     "data": {
      "text/plain": [
       "[['Pierre', 'Vinken', ',', '61', 'years', 'old', ',', 'will', 'join', 'the', 'board', 'as', 'a', 'nonexecutive', 'director', 'Nov.', '29', '.'], ['Mr.', 'Vinken', 'is', 'chairman', 'of', 'Elsevier', 'N.V.', ',', 'the', 'Dutch', 'publishing', 'group', '.'], ...]"
      ]
     },
     "execution_count": 9,
     "metadata": {},
     "output_type": "execute_result"
    }
   ],
   "source": [
    "treebank.sents()"
   ]
  },
  {
   "cell_type": "code",
   "execution_count": 10,
   "id": "b3f902f3",
   "metadata": {},
   "outputs": [
    {
     "data": {
      "text/plain": [
       "3914"
      ]
     },
     "execution_count": 10,
     "metadata": {},
     "output_type": "execute_result"
    }
   ],
   "source": [
    "len(treebank.sents())"
   ]
  },
  {
   "cell_type": "code",
   "execution_count": 11,
   "id": "1f523dc6",
   "metadata": {},
   "outputs": [
    {
     "name": "stderr",
     "output_type": "stream",
     "text": [
      "[nltk_data] Downloading package universal_tagset to\n",
      "[nltk_data]     C:\\Users\\DELL\\AppData\\Roaming\\nltk_data...\n",
      "[nltk_data]   Package universal_tagset is already up-to-date!\n"
     ]
    },
    {
     "data": {
      "text/plain": [
       "True"
      ]
     },
     "execution_count": 11,
     "metadata": {},
     "output_type": "execute_result"
    }
   ],
   "source": [
    "nltk.download('universal_tagset')"
   ]
  },
  {
   "cell_type": "code",
   "execution_count": 12,
   "id": "6c316f89",
   "metadata": {},
   "outputs": [],
   "source": [
    "d2=brown.tagged_sents(tagset='universal')"
   ]
  },
  {
   "cell_type": "code",
   "execution_count": 13,
   "id": "2bdb0623",
   "metadata": {},
   "outputs": [],
   "source": [
    "d1=treebank.tagged_sents(tagset='universal')"
   ]
  },
  {
   "cell_type": "code",
   "execution_count": 14,
   "id": "17f4dd7d",
   "metadata": {},
   "outputs": [],
   "source": [
    "dataset=d1+d2"
   ]
  },
  {
   "cell_type": "code",
   "execution_count": 15,
   "id": "206b1824",
   "metadata": {},
   "outputs": [
    {
     "data": {
      "text/plain": [
       "61254"
      ]
     },
     "execution_count": 15,
     "metadata": {},
     "output_type": "execute_result"
    }
   ],
   "source": [
    "len(dataset)"
   ]
  },
  {
   "cell_type": "code",
   "execution_count": 16,
   "id": "aeb4ba14",
   "metadata": {},
   "outputs": [],
   "source": [
    "x=[]\n",
    "y=[]\n",
    "for l in dataset:\n",
    "    x1=[]\n",
    "    y1=[]\n",
    "    for t in l:\n",
    "        x1.append(t[0])\n",
    "        y1.append(t[1])\n",
    "        \n",
    "    x.append(x1)\n",
    "    y.append(y1)\n"
   ]
  },
  {
   "cell_type": "code",
   "execution_count": 17,
   "id": "fa71300b",
   "metadata": {},
   "outputs": [
    {
     "data": {
      "text/plain": [
       "61254"
      ]
     },
     "execution_count": 17,
     "metadata": {},
     "output_type": "execute_result"
    }
   ],
   "source": [
    "len(x)"
   ]
  },
  {
   "cell_type": "code",
   "execution_count": 18,
   "id": "a340bf3d",
   "metadata": {},
   "outputs": [
    {
     "data": {
      "text/plain": [
       "61254"
      ]
     },
     "execution_count": 18,
     "metadata": {},
     "output_type": "execute_result"
    }
   ],
   "source": [
    "len(y)"
   ]
  },
  {
   "cell_type": "code",
   "execution_count": 19,
   "id": "43f50bb3",
   "metadata": {},
   "outputs": [
    {
     "data": {
      "text/plain": [
       "True"
      ]
     },
     "execution_count": 19,
     "metadata": {},
     "output_type": "execute_result"
    }
   ],
   "source": [
    "len(x[0])==len(y[0])"
   ]
  },
  {
   "cell_type": "code",
   "execution_count": 20,
   "id": "ab51cc6d",
   "metadata": {},
   "outputs": [],
   "source": [
    "#x"
   ]
  },
  {
   "cell_type": "code",
   "execution_count": 21,
   "id": "2eb9a46e",
   "metadata": {},
   "outputs": [],
   "source": [
    "#y"
   ]
  },
  {
   "cell_type": "code",
   "execution_count": 22,
   "id": "a5474f7f",
   "metadata": {},
   "outputs": [],
   "source": [
    "c=0\n",
    "for i in range(len(x)):\n",
    "    if len(x[i])==len(y[i]):\n",
    "        pass\n",
    "    else:\n",
    "        c+=1"
   ]
  },
  {
   "cell_type": "code",
   "execution_count": 23,
   "id": "b6f8df81",
   "metadata": {},
   "outputs": [
    {
     "data": {
      "text/plain": [
       "0"
      ]
     },
     "execution_count": 23,
     "metadata": {},
     "output_type": "execute_result"
    }
   ],
   "source": [
    "c"
   ]
  },
  {
   "cell_type": "code",
   "execution_count": 24,
   "id": "cd12ae49-4313-4751-b04c-3967e4a829aa",
   "metadata": {},
   "outputs": [],
   "source": [
    "## Finding out vocabulary\n",
    "voc=[]\n",
    "for q in x:\n",
    "    for word in q:\n",
    "        if word.lower() not in voc:\n",
    "            voc.append(word.lower())"
   ]
  },
  {
   "cell_type": "markdown",
   "id": "ed250a25-0d79-4b0e-bf92-e6c61e149b2b",
   "metadata": {},
   "source": [
    "## Finding out tags\n",
    "tags=[]\n",
    "for tag_list in y:\n",
    "    for tag in tag_list:\n",
    "        if tag.lower() not in voc:\n",
    "            tags.append(tag.lower())"
   ]
  },
  {
   "cell_type": "code",
   "execution_count": 25,
   "id": "bfaa1607",
   "metadata": {},
   "outputs": [],
   "source": [
    "tk_x=Tokenizer()\n",
    "tk_x.fit_on_texts(x)\n",
    "\n",
    "tk_y=Tokenizer()\n",
    "tk_y.fit_on_texts(y)"
   ]
  },
  {
   "cell_type": "code",
   "execution_count": 26,
   "id": "fa950ab9",
   "metadata": {},
   "outputs": [
    {
     "data": {
      "text/plain": [
       "53232"
      ]
     },
     "execution_count": 26,
     "metadata": {},
     "output_type": "execute_result"
    }
   ],
   "source": [
    "len(tk_x.word_index)"
   ]
  },
  {
   "cell_type": "code",
   "execution_count": 27,
   "id": "e7aa8852",
   "metadata": {},
   "outputs": [
    {
     "data": {
      "text/plain": [
       "12"
      ]
     },
     "execution_count": 27,
     "metadata": {},
     "output_type": "execute_result"
    }
   ],
   "source": [
    "len(tk_y.word_index)"
   ]
  },
  {
   "cell_type": "code",
   "execution_count": 28,
   "id": "7fad1b9f",
   "metadata": {},
   "outputs": [
    {
     "data": {
      "text/plain": [
       "{'noun': 1,\n",
       " 'verb': 2,\n",
       " '.': 3,\n",
       " 'adp': 4,\n",
       " 'det': 5,\n",
       " 'adj': 6,\n",
       " 'adv': 7,\n",
       " 'pron': 8,\n",
       " 'conj': 9,\n",
       " 'prt': 10,\n",
       " 'num': 11,\n",
       " 'x': 12}"
      ]
     },
     "execution_count": 28,
     "metadata": {},
     "output_type": "execute_result"
    }
   ],
   "source": [
    "tk_y.word_index"
   ]
  },
  {
   "cell_type": "code",
   "execution_count": 29,
   "id": "90c8fc58",
   "metadata": {},
   "outputs": [],
   "source": [
    "x_d=tk_x.texts_to_sequences(x)\n",
    "y_d=tk_y.texts_to_sequences(y)"
   ]
  },
  {
   "cell_type": "code",
   "execution_count": 30,
   "id": "353bbe13",
   "metadata": {},
   "outputs": [
    {
     "data": {
      "text/plain": [
       "61254"
      ]
     },
     "execution_count": 30,
     "metadata": {},
     "output_type": "execute_result"
    }
   ],
   "source": [
    "len(x_d)"
   ]
  },
  {
   "cell_type": "code",
   "execution_count": 31,
   "id": "5b7872f6",
   "metadata": {},
   "outputs": [
    {
     "data": {
      "text/plain": [
       "61254"
      ]
     },
     "execution_count": 31,
     "metadata": {},
     "output_type": "execute_result"
    }
   ],
   "source": [
    "len(y_d)"
   ]
  },
  {
   "cell_type": "code",
   "execution_count": 32,
   "id": "6b7c5e1e",
   "metadata": {},
   "outputs": [],
   "source": [
    "from keras.utils import pad_sequences"
   ]
  },
  {
   "cell_type": "code",
   "execution_count": 33,
   "id": "f589701c",
   "metadata": {},
   "outputs": [],
   "source": [
    "final_x_d = pad_sequences(x_d,padding='post')\n",
    "final_y_d = pad_sequences(y_d,padding='post')"
   ]
  },
  {
   "cell_type": "code",
   "execution_count": 34,
   "id": "fd2534ec",
   "metadata": {},
   "outputs": [
    {
     "data": {
      "text/plain": [
       "(61254, 271)"
      ]
     },
     "execution_count": 34,
     "metadata": {},
     "output_type": "execute_result"
    }
   ],
   "source": [
    "final_x_d.shape"
   ]
  },
  {
   "cell_type": "code",
   "execution_count": 35,
   "id": "7c173168",
   "metadata": {},
   "outputs": [
    {
     "data": {
      "text/plain": [
       "(61254, 271)"
      ]
     },
     "execution_count": 35,
     "metadata": {},
     "output_type": "execute_result"
    }
   ],
   "source": [
    "final_y_d.shape"
   ]
  },
  {
   "cell_type": "code",
   "execution_count": 36,
   "id": "bcb1d15c",
   "metadata": {},
   "outputs": [
    {
     "data": {
      "text/plain": [
       "array([[1, 1, 3, ..., 0, 0, 0],\n",
       "       [1, 1, 2, ..., 0, 0, 0],\n",
       "       [1, 1, 3, ..., 0, 0, 0],\n",
       "       ...,\n",
       "       [5, 1, 4, ..., 0, 0, 0],\n",
       "       [8, 2, 5, ..., 0, 0, 0],\n",
       "       [4, 5, 8, ..., 0, 0, 0]])"
      ]
     },
     "execution_count": 36,
     "metadata": {},
     "output_type": "execute_result"
    }
   ],
   "source": [
    "final_y_d"
   ]
  },
  {
   "cell_type": "code",
   "execution_count": 37,
   "id": "88a591d6",
   "metadata": {},
   "outputs": [],
   "source": [
    "from keras.utils import to_categorical"
   ]
  },
  {
   "cell_type": "code",
   "execution_count": 38,
   "id": "508c91d4",
   "metadata": {},
   "outputs": [],
   "source": [
    "final_y_d = to_categorical(final_y_d)"
   ]
  },
  {
   "cell_type": "code",
   "execution_count": 39,
   "id": "cd92ba67",
   "metadata": {},
   "outputs": [],
   "source": [
    "model=Sequential()\n",
    "model.add(InputLayer(shape=(271,)))\n",
    "model.add(Embedding(input_dim=len(tk_x.word_index)+1,output_dim=5)) #Normal Embedding\n",
    "model.add(SimpleRNN(units=50,return_sequences=True))\n",
    "model.add(TimeDistributed(Dense(units=13,activation=\"softmax\")))"
   ]
  },
  {
   "cell_type": "code",
   "execution_count": 40,
   "id": "540f3aa7",
   "metadata": {},
   "outputs": [],
   "source": [
    "model.compile(optimizer=\"adam\",loss=\"categorical_crossentropy\",metrics=['accuracy'])"
   ]
  },
  {
   "cell_type": "code",
   "execution_count": 42,
   "id": "ef6441c9",
   "metadata": {
    "scrolled": true
   },
   "outputs": [
    {
     "name": "stdout",
     "output_type": "stream",
     "text": [
      "Epoch 1/100\n",
      "\u001b[1m327/327\u001b[0m \u001b[32m━━━━━━━━━━━━━━━━━━━━\u001b[0m\u001b[37m\u001b[0m \u001b[1m270s\u001b[0m 815ms/step - accuracy: 0.9481 - loss: 0.1737 - val_accuracy: 0.9731 - val_loss: 0.0950\n",
      "Epoch 2/100\n",
      "\u001b[1m327/327\u001b[0m \u001b[32m━━━━━━━━━━━━━━━━━━━━\u001b[0m\u001b[37m\u001b[0m \u001b[1m263s\u001b[0m 802ms/step - accuracy: 0.9695 - loss: 0.1137 - val_accuracy: 0.9827 - val_loss: 0.0582\n",
      "Epoch 3/100\n",
      "\u001b[1m327/327\u001b[0m \u001b[32m━━━━━━━━━━━━━━━━━━━━\u001b[0m\u001b[37m\u001b[0m \u001b[1m264s\u001b[0m 804ms/step - accuracy: 0.9806 - loss: 0.0692 - val_accuracy: 0.9917 - val_loss: 0.0344\n",
      "Epoch 4/100\n",
      "\u001b[1m327/327\u001b[0m \u001b[32m━━━━━━━━━━━━━━━━━━━━\u001b[0m\u001b[37m\u001b[0m \u001b[1m254s\u001b[0m 775ms/step - accuracy: 0.9894 - loss: 0.0426 - val_accuracy: 0.9945 - val_loss: 0.0232\n",
      "Epoch 5/100\n",
      "\u001b[1m327/327\u001b[0m \u001b[32m━━━━━━━━━━━━━━━━━━━━\u001b[0m\u001b[37m\u001b[0m \u001b[1m250s\u001b[0m 764ms/step - accuracy: 0.9928 - loss: 0.0286 - val_accuracy: 0.9956 - val_loss: 0.0178\n",
      "Epoch 6/100\n",
      "\u001b[1m327/327\u001b[0m \u001b[32m━━━━━━━━━━━━━━━━━━━━\u001b[0m\u001b[37m\u001b[0m \u001b[1m262s\u001b[0m 800ms/step - accuracy: 0.9947 - loss: 0.0210 - val_accuracy: 0.9961 - val_loss: 0.0148\n",
      "Epoch 7/100\n",
      "\u001b[1m327/327\u001b[0m \u001b[32m━━━━━━━━━━━━━━━━━━━━\u001b[0m\u001b[37m\u001b[0m \u001b[1m240s\u001b[0m 730ms/step - accuracy: 0.9959 - loss: 0.0164 - val_accuracy: 0.9963 - val_loss: 0.0129\n",
      "Epoch 8/100\n",
      "\u001b[1m327/327\u001b[0m \u001b[32m━━━━━━━━━━━━━━━━━━━━\u001b[0m\u001b[37m\u001b[0m \u001b[1m238s\u001b[0m 728ms/step - accuracy: 0.9964 - loss: 0.0135 - val_accuracy: 0.9965 - val_loss: 0.0116\n",
      "Epoch 9/100\n",
      "\u001b[1m327/327\u001b[0m \u001b[32m━━━━━━━━━━━━━━━━━━━━\u001b[0m\u001b[37m\u001b[0m \u001b[1m238s\u001b[0m 726ms/step - accuracy: 0.9967 - loss: 0.0116 - val_accuracy: 0.9966 - val_loss: 0.0107\n",
      "Epoch 10/100\n",
      "\u001b[1m327/327\u001b[0m \u001b[32m━━━━━━━━━━━━━━━━━━━━\u001b[0m\u001b[37m\u001b[0m \u001b[1m238s\u001b[0m 728ms/step - accuracy: 0.9969 - loss: 0.0103 - val_accuracy: 0.9966 - val_loss: 0.0102\n",
      "Epoch 11/100\n",
      "\u001b[1m327/327\u001b[0m \u001b[32m━━━━━━━━━━━━━━━━━━━━\u001b[0m\u001b[37m\u001b[0m \u001b[1m241s\u001b[0m 734ms/step - accuracy: 0.9971 - loss: 0.0093 - val_accuracy: 0.9967 - val_loss: 0.0098\n",
      "Epoch 12/100\n",
      "\u001b[1m327/327\u001b[0m \u001b[32m━━━━━━━━━━━━━━━━━━━━\u001b[0m\u001b[37m\u001b[0m \u001b[1m240s\u001b[0m 734ms/step - accuracy: 0.9972 - loss: 0.0086 - val_accuracy: 0.9968 - val_loss: 0.0096\n",
      "Epoch 13/100\n",
      "\u001b[1m327/327\u001b[0m \u001b[32m━━━━━━━━━━━━━━━━━━━━\u001b[0m\u001b[37m\u001b[0m \u001b[1m241s\u001b[0m 736ms/step - accuracy: 0.9973 - loss: 0.0082 - val_accuracy: 0.9968 - val_loss: 0.0093\n",
      "Epoch 14/100\n",
      "\u001b[1m327/327\u001b[0m \u001b[32m━━━━━━━━━━━━━━━━━━━━\u001b[0m\u001b[37m\u001b[0m \u001b[1m235s\u001b[0m 717ms/step - accuracy: 0.9974 - loss: 0.0078 - val_accuracy: 0.9968 - val_loss: 0.0092\n",
      "Epoch 15/100\n",
      "\u001b[1m327/327\u001b[0m \u001b[32m━━━━━━━━━━━━━━━━━━━━\u001b[0m\u001b[37m\u001b[0m \u001b[1m236s\u001b[0m 721ms/step - accuracy: 0.9975 - loss: 0.0074 - val_accuracy: 0.9969 - val_loss: 0.0092\n",
      "Epoch 16/100\n",
      "\u001b[1m327/327\u001b[0m \u001b[32m━━━━━━━━━━━━━━━━━━━━\u001b[0m\u001b[37m\u001b[0m \u001b[1m235s\u001b[0m 718ms/step - accuracy: 0.9976 - loss: 0.0072 - val_accuracy: 0.9969 - val_loss: 0.0090\n",
      "Epoch 17/100\n",
      "\u001b[1m327/327\u001b[0m \u001b[32m━━━━━━━━━━━━━━━━━━━━\u001b[0m\u001b[37m\u001b[0m \u001b[1m235s\u001b[0m 718ms/step - accuracy: 0.9976 - loss: 0.0071 - val_accuracy: 0.9969 - val_loss: 0.0090\n",
      "Epoch 18/100\n",
      "\u001b[1m327/327\u001b[0m \u001b[32m━━━━━━━━━━━━━━━━━━━━\u001b[0m\u001b[37m\u001b[0m \u001b[1m238s\u001b[0m 726ms/step - accuracy: 0.9977 - loss: 0.0068 - val_accuracy: 0.9969 - val_loss: 0.0090\n",
      "Epoch 19/100\n",
      "\u001b[1m327/327\u001b[0m \u001b[32m━━━━━━━━━━━━━━━━━━━━\u001b[0m\u001b[37m\u001b[0m \u001b[1m234s\u001b[0m 716ms/step - accuracy: 0.9977 - loss: 0.0066 - val_accuracy: 0.9969 - val_loss: 0.0089\n",
      "Epoch 20/100\n",
      "\u001b[1m327/327\u001b[0m \u001b[32m━━━━━━━━━━━━━━━━━━━━\u001b[0m\u001b[37m\u001b[0m \u001b[1m236s\u001b[0m 721ms/step - accuracy: 0.9978 - loss: 0.0064 - val_accuracy: 0.9969 - val_loss: 0.0089\n",
      "Epoch 21/100\n",
      "\u001b[1m327/327\u001b[0m \u001b[32m━━━━━━━━━━━━━━━━━━━━\u001b[0m\u001b[37m\u001b[0m \u001b[1m234s\u001b[0m 714ms/step - accuracy: 0.9978 - loss: 0.0063 - val_accuracy: 0.9970 - val_loss: 0.0090\n",
      "Epoch 22/100\n",
      "\u001b[1m327/327\u001b[0m \u001b[32m━━━━━━━━━━━━━━━━━━━━\u001b[0m\u001b[37m\u001b[0m \u001b[1m235s\u001b[0m 718ms/step - accuracy: 0.9979 - loss: 0.0063 - val_accuracy: 0.9969 - val_loss: 0.0090\n",
      "Epoch 23/100\n",
      "\u001b[1m327/327\u001b[0m \u001b[32m━━━━━━━━━━━━━━━━━━━━\u001b[0m\u001b[37m\u001b[0m \u001b[1m234s\u001b[0m 714ms/step - accuracy: 0.9979 - loss: 0.0060 - val_accuracy: 0.9970 - val_loss: 0.0089\n",
      "Epoch 24/100\n",
      "\u001b[1m327/327\u001b[0m \u001b[32m━━━━━━━━━━━━━━━━━━━━\u001b[0m\u001b[37m\u001b[0m \u001b[1m235s\u001b[0m 719ms/step - accuracy: 0.9980 - loss: 0.0058 - val_accuracy: 0.9970 - val_loss: 0.0090\n",
      "Epoch 25/100\n",
      "\u001b[1m327/327\u001b[0m \u001b[32m━━━━━━━━━━━━━━━━━━━━\u001b[0m\u001b[37m\u001b[0m \u001b[1m234s\u001b[0m 716ms/step - accuracy: 0.9980 - loss: 0.0058 - val_accuracy: 0.9970 - val_loss: 0.0091\n",
      "Epoch 26/100\n",
      "\u001b[1m327/327\u001b[0m \u001b[32m━━━━━━━━━━━━━━━━━━━━\u001b[0m\u001b[37m\u001b[0m \u001b[1m236s\u001b[0m 720ms/step - accuracy: 0.9980 - loss: 0.0058 - val_accuracy: 0.9970 - val_loss: 0.0091\n",
      "Epoch 27/100\n",
      "\u001b[1m327/327\u001b[0m \u001b[32m━━━━━━━━━━━━━━━━━━━━\u001b[0m\u001b[37m\u001b[0m \u001b[1m235s\u001b[0m 718ms/step - accuracy: 0.9981 - loss: 0.0057 - val_accuracy: 0.9970 - val_loss: 0.0092\n",
      "Epoch 28/100\n",
      "\u001b[1m327/327\u001b[0m \u001b[32m━━━━━━━━━━━━━━━━━━━━\u001b[0m\u001b[37m\u001b[0m \u001b[1m235s\u001b[0m 719ms/step - accuracy: 0.9981 - loss: 0.0053 - val_accuracy: 0.9970 - val_loss: 0.0091\n",
      "Epoch 29/100\n",
      "\u001b[1m327/327\u001b[0m \u001b[32m━━━━━━━━━━━━━━━━━━━━\u001b[0m\u001b[37m\u001b[0m \u001b[1m236s\u001b[0m 721ms/step - accuracy: 0.9981 - loss: 0.0054 - val_accuracy: 0.9970 - val_loss: 0.0092\n",
      "Epoch 30/100\n",
      "\u001b[1m327/327\u001b[0m \u001b[32m━━━━━━━━━━━━━━━━━━━━\u001b[0m\u001b[37m\u001b[0m \u001b[1m239s\u001b[0m 731ms/step - accuracy: 0.9982 - loss: 0.0053 - val_accuracy: 0.9970 - val_loss: 0.0092\n",
      "Epoch 31/100\n",
      "\u001b[1m327/327\u001b[0m \u001b[32m━━━━━━━━━━━━━━━━━━━━\u001b[0m\u001b[37m\u001b[0m \u001b[1m236s\u001b[0m 721ms/step - accuracy: 0.9982 - loss: 0.0051 - val_accuracy: 0.9970 - val_loss: 0.0093\n",
      "Epoch 32/100\n",
      "\u001b[1m327/327\u001b[0m \u001b[32m━━━━━━━━━━━━━━━━━━━━\u001b[0m\u001b[37m\u001b[0m \u001b[1m239s\u001b[0m 732ms/step - accuracy: 0.9983 - loss: 0.0050 - val_accuracy: 0.9970 - val_loss: 0.0093\n",
      "Epoch 33/100\n",
      "\u001b[1m327/327\u001b[0m \u001b[32m━━━━━━━━━━━━━━━━━━━━\u001b[0m\u001b[37m\u001b[0m \u001b[1m236s\u001b[0m 722ms/step - accuracy: 0.9983 - loss: 0.0050 - val_accuracy: 0.9970 - val_loss: 0.0095\n",
      "Epoch 34/100\n",
      "\u001b[1m327/327\u001b[0m \u001b[32m━━━━━━━━━━━━━━━━━━━━\u001b[0m\u001b[37m\u001b[0m \u001b[1m236s\u001b[0m 721ms/step - accuracy: 0.9984 - loss: 0.0048 - val_accuracy: 0.9970 - val_loss: 0.0096\n",
      "Epoch 35/100\n",
      "\u001b[1m327/327\u001b[0m \u001b[32m━━━━━━━━━━━━━━━━━━━━\u001b[0m\u001b[37m\u001b[0m \u001b[1m236s\u001b[0m 722ms/step - accuracy: 0.9984 - loss: 0.0048 - val_accuracy: 0.9970 - val_loss: 0.0096\n",
      "Epoch 36/100\n",
      "\u001b[1m327/327\u001b[0m \u001b[32m━━━━━━━━━━━━━━━━━━━━\u001b[0m\u001b[37m\u001b[0m \u001b[1m237s\u001b[0m 725ms/step - accuracy: 0.9984 - loss: 0.0047 - val_accuracy: 0.9970 - val_loss: 0.0097\n",
      "Epoch 37/100\n",
      "\u001b[1m327/327\u001b[0m \u001b[32m━━━━━━━━━━━━━━━━━━━━\u001b[0m\u001b[37m\u001b[0m \u001b[1m235s\u001b[0m 718ms/step - accuracy: 0.9984 - loss: 0.0046 - val_accuracy: 0.9970 - val_loss: 0.0097\n",
      "Epoch 38/100\n",
      "\u001b[1m327/327\u001b[0m \u001b[32m━━━━━━━━━━━━━━━━━━━━\u001b[0m\u001b[37m\u001b[0m \u001b[1m237s\u001b[0m 724ms/step - accuracy: 0.9985 - loss: 0.0045 - val_accuracy: 0.9970 - val_loss: 0.0099\n",
      "Epoch 39/100\n",
      "\u001b[1m327/327\u001b[0m \u001b[32m━━━━━━━━━━━━━━━━━━━━\u001b[0m\u001b[37m\u001b[0m \u001b[1m236s\u001b[0m 721ms/step - accuracy: 0.9985 - loss: 0.0046 - val_accuracy: 0.9969 - val_loss: 0.0100\n",
      "Epoch 40/100\n",
      "\u001b[1m327/327\u001b[0m \u001b[32m━━━━━━━━━━━━━━━━━━━━\u001b[0m\u001b[37m\u001b[0m \u001b[1m235s\u001b[0m 719ms/step - accuracy: 0.9985 - loss: 0.0043 - val_accuracy: 0.9969 - val_loss: 0.0101\n",
      "Epoch 41/100\n",
      "\u001b[1m327/327\u001b[0m \u001b[32m━━━━━━━━━━━━━━━━━━━━\u001b[0m\u001b[37m\u001b[0m \u001b[1m239s\u001b[0m 730ms/step - accuracy: 0.9986 - loss: 0.0043 - val_accuracy: 0.9969 - val_loss: 0.0102\n",
      "Epoch 42/100\n",
      "\u001b[1m327/327\u001b[0m \u001b[32m━━━━━━━━━━━━━━━━━━━━\u001b[0m\u001b[37m\u001b[0m \u001b[1m237s\u001b[0m 723ms/step - accuracy: 0.9986 - loss: 0.0042 - val_accuracy: 0.9970 - val_loss: 0.0103\n",
      "Epoch 43/100\n",
      "\u001b[1m327/327\u001b[0m \u001b[32m━━━━━━━━━━━━━━━━━━━━\u001b[0m\u001b[37m\u001b[0m \u001b[1m236s\u001b[0m 723ms/step - accuracy: 0.9986 - loss: 0.0041 - val_accuracy: 0.9969 - val_loss: 0.0104\n",
      "Epoch 44/100\n",
      "\u001b[1m327/327\u001b[0m \u001b[32m━━━━━━━━━━━━━━━━━━━━\u001b[0m\u001b[37m\u001b[0m \u001b[1m236s\u001b[0m 720ms/step - accuracy: 0.9987 - loss: 0.0041 - val_accuracy: 0.9969 - val_loss: 0.0106\n",
      "Epoch 45/100\n",
      "\u001b[1m327/327\u001b[0m \u001b[32m━━━━━━━━━━━━━━━━━━━━\u001b[0m\u001b[37m\u001b[0m \u001b[1m237s\u001b[0m 722ms/step - accuracy: 0.9987 - loss: 0.0041 - val_accuracy: 0.9969 - val_loss: 0.0105\n",
      "Epoch 46/100\n",
      "\u001b[1m327/327\u001b[0m \u001b[32m━━━━━━━━━━━━━━━━━━━━\u001b[0m\u001b[37m\u001b[0m \u001b[1m237s\u001b[0m 723ms/step - accuracy: 0.9987 - loss: 0.0040 - val_accuracy: 0.9969 - val_loss: 0.0107\n",
      "Epoch 47/100\n",
      "\u001b[1m327/327\u001b[0m \u001b[32m━━━━━━━━━━━━━━━━━━━━\u001b[0m\u001b[37m\u001b[0m \u001b[1m239s\u001b[0m 725ms/step - accuracy: 0.9987 - loss: 0.0039 - val_accuracy: 0.9969 - val_loss: 0.0109\n",
      "Epoch 48/100\n",
      "\u001b[1m327/327\u001b[0m \u001b[32m━━━━━━━━━━━━━━━━━━━━\u001b[0m\u001b[37m\u001b[0m \u001b[1m236s\u001b[0m 722ms/step - accuracy: 0.9987 - loss: 0.0038 - val_accuracy: 0.9969 - val_loss: 0.0110\n",
      "Epoch 49/100\n",
      "\u001b[1m327/327\u001b[0m \u001b[32m━━━━━━━━━━━━━━━━━━━━\u001b[0m\u001b[37m\u001b[0m \u001b[1m236s\u001b[0m 721ms/step - accuracy: 0.9988 - loss: 0.0039 - val_accuracy: 0.9969 - val_loss: 0.0111\n",
      "Epoch 50/100\n",
      "\u001b[1m327/327\u001b[0m \u001b[32m━━━━━━━━━━━━━━━━━━━━\u001b[0m\u001b[37m\u001b[0m \u001b[1m242s\u001b[0m 738ms/step - accuracy: 0.9988 - loss: 0.0038 - val_accuracy: 0.9968 - val_loss: 0.0113\n",
      "Epoch 51/100\n",
      "\u001b[1m327/327\u001b[0m \u001b[32m━━━━━━━━━━━━━━━━━━━━\u001b[0m\u001b[37m\u001b[0m \u001b[1m239s\u001b[0m 731ms/step - accuracy: 0.9988 - loss: 0.0037 - val_accuracy: 0.9969 - val_loss: 0.0113\n",
      "Epoch 52/100\n",
      "\u001b[1m327/327\u001b[0m \u001b[32m━━━━━━━━━━━━━━━━━━━━\u001b[0m\u001b[37m\u001b[0m \u001b[1m234s\u001b[0m 715ms/step - accuracy: 0.9988 - loss: 0.0037 - val_accuracy: 0.9969 - val_loss: 0.0114\n",
      "Epoch 53/100\n",
      "\u001b[1m327/327\u001b[0m \u001b[32m━━━━━━━━━━━━━━━━━━━━\u001b[0m\u001b[37m\u001b[0m \u001b[1m237s\u001b[0m 723ms/step - accuracy: 0.9989 - loss: 0.0036 - val_accuracy: 0.9968 - val_loss: 0.0116\n",
      "Epoch 54/100\n",
      "\u001b[1m327/327\u001b[0m \u001b[32m━━━━━━━━━━━━━━━━━━━━\u001b[0m\u001b[37m\u001b[0m \u001b[1m236s\u001b[0m 721ms/step - accuracy: 0.9989 - loss: 0.0036 - val_accuracy: 0.9968 - val_loss: 0.0118\n",
      "Epoch 55/100\n",
      "\u001b[1m327/327\u001b[0m \u001b[32m━━━━━━━━━━━━━━━━━━━━\u001b[0m\u001b[37m\u001b[0m \u001b[1m236s\u001b[0m 722ms/step - accuracy: 0.9989 - loss: 0.0036 - val_accuracy: 0.9968 - val_loss: 0.0118\n",
      "Epoch 56/100\n",
      "\u001b[1m327/327\u001b[0m \u001b[32m━━━━━━━━━━━━━━━━━━━━\u001b[0m\u001b[37m\u001b[0m \u001b[1m237s\u001b[0m 725ms/step - accuracy: 0.9989 - loss: 0.0035 - val_accuracy: 0.9968 - val_loss: 0.0120\n",
      "Epoch 57/100\n",
      "\u001b[1m327/327\u001b[0m \u001b[32m━━━━━━━━━━━━━━━━━━━━\u001b[0m\u001b[37m\u001b[0m \u001b[1m236s\u001b[0m 721ms/step - accuracy: 0.9989 - loss: 0.0034 - val_accuracy: 0.9968 - val_loss: 0.0120\n",
      "Epoch 58/100\n",
      "\u001b[1m327/327\u001b[0m \u001b[32m━━━━━━━━━━━━━━━━━━━━\u001b[0m\u001b[37m\u001b[0m \u001b[1m240s\u001b[0m 733ms/step - accuracy: 0.9989 - loss: 0.0034 - val_accuracy: 0.9968 - val_loss: 0.0122\n",
      "Epoch 59/100\n",
      "\u001b[1m327/327\u001b[0m \u001b[32m━━━━━━━━━━━━━━━━━━━━\u001b[0m\u001b[37m\u001b[0m \u001b[1m234s\u001b[0m 715ms/step - accuracy: 0.9990 - loss: 0.0034 - val_accuracy: 0.9968 - val_loss: 0.0122\n",
      "Epoch 60/100\n",
      "\u001b[1m327/327\u001b[0m \u001b[32m━━━━━━━━━━━━━━━━━━━━\u001b[0m\u001b[37m\u001b[0m \u001b[1m237s\u001b[0m 725ms/step - accuracy: 0.9990 - loss: 0.0033 - val_accuracy: 0.9967 - val_loss: 0.0125\n",
      "Epoch 61/100\n",
      "\u001b[1m327/327\u001b[0m \u001b[32m━━━━━━━━━━━━━━━━━━━━\u001b[0m\u001b[37m\u001b[0m \u001b[1m236s\u001b[0m 719ms/step - accuracy: 0.9990 - loss: 0.0032 - val_accuracy: 0.9968 - val_loss: 0.0126\n",
      "Epoch 62/100\n",
      "\u001b[1m327/327\u001b[0m \u001b[32m━━━━━━━━━━━━━━━━━━━━\u001b[0m\u001b[37m\u001b[0m \u001b[1m237s\u001b[0m 725ms/step - accuracy: 0.9990 - loss: 0.0032 - val_accuracy: 0.9968 - val_loss: 0.0127\n",
      "Epoch 63/100\n",
      "\u001b[1m327/327\u001b[0m \u001b[32m━━━━━━━━━━━━━━━━━━━━\u001b[0m\u001b[37m\u001b[0m \u001b[1m239s\u001b[0m 732ms/step - accuracy: 0.9990 - loss: 0.0032 - val_accuracy: 0.9968 - val_loss: 0.0128\n",
      "Epoch 64/100\n",
      "\u001b[1m327/327\u001b[0m \u001b[32m━━━━━━━━━━━━━━━━━━━━\u001b[0m\u001b[37m\u001b[0m \u001b[1m236s\u001b[0m 720ms/step - accuracy: 0.9990 - loss: 0.0032 - val_accuracy: 0.9968 - val_loss: 0.0129\n",
      "Epoch 65/100\n",
      "\u001b[1m327/327\u001b[0m \u001b[32m━━━━━━━━━━━━━━━━━━━━\u001b[0m\u001b[37m\u001b[0m \u001b[1m237s\u001b[0m 725ms/step - accuracy: 0.9990 - loss: 0.0031 - val_accuracy: 0.9967 - val_loss: 0.0130\n",
      "Epoch 66/100\n",
      "\u001b[1m327/327\u001b[0m \u001b[32m━━━━━━━━━━━━━━━━━━━━\u001b[0m\u001b[37m\u001b[0m \u001b[1m237s\u001b[0m 725ms/step - accuracy: 0.9990 - loss: 0.0031 - val_accuracy: 0.9967 - val_loss: 0.0133\n",
      "Epoch 67/100\n",
      "\u001b[1m327/327\u001b[0m \u001b[32m━━━━━━━━━━━━━━━━━━━━\u001b[0m\u001b[37m\u001b[0m \u001b[1m240s\u001b[0m 734ms/step - accuracy: 0.9991 - loss: 0.0030 - val_accuracy: 0.9967 - val_loss: 0.0133\n",
      "Epoch 68/100\n",
      "\u001b[1m327/327\u001b[0m \u001b[32m━━━━━━━━━━━━━━━━━━━━\u001b[0m\u001b[37m\u001b[0m \u001b[1m236s\u001b[0m 720ms/step - accuracy: 0.9991 - loss: 0.0030 - val_accuracy: 0.9967 - val_loss: 0.0133\n",
      "Epoch 69/100\n",
      "\u001b[1m327/327\u001b[0m \u001b[32m━━━━━━━━━━━━━━━━━━━━\u001b[0m\u001b[37m\u001b[0m \u001b[1m238s\u001b[0m 726ms/step - accuracy: 0.9991 - loss: 0.0030 - val_accuracy: 0.9967 - val_loss: 0.0135\n",
      "Epoch 70/100\n",
      "\u001b[1m327/327\u001b[0m \u001b[32m━━━━━━━━━━━━━━━━━━━━\u001b[0m\u001b[37m\u001b[0m \u001b[1m236s\u001b[0m 723ms/step - accuracy: 0.9991 - loss: 0.0030 - val_accuracy: 0.9967 - val_loss: 0.0136\n",
      "Epoch 71/100\n",
      "\u001b[1m327/327\u001b[0m \u001b[32m━━━━━━━━━━━━━━━━━━━━\u001b[0m\u001b[37m\u001b[0m \u001b[1m236s\u001b[0m 722ms/step - accuracy: 0.9991 - loss: 0.0030 - val_accuracy: 0.9967 - val_loss: 0.0138\n",
      "Epoch 72/100\n",
      "\u001b[1m327/327\u001b[0m \u001b[32m━━━━━━━━━━━━━━━━━━━━\u001b[0m\u001b[37m\u001b[0m \u001b[1m238s\u001b[0m 728ms/step - accuracy: 0.9991 - loss: 0.0029 - val_accuracy: 0.9967 - val_loss: 0.0138\n",
      "Epoch 73/100\n",
      "\u001b[1m327/327\u001b[0m \u001b[32m━━━━━━━━━━━━━━━━━━━━\u001b[0m\u001b[37m\u001b[0m \u001b[1m238s\u001b[0m 728ms/step - accuracy: 0.9991 - loss: 0.0029 - val_accuracy: 0.9967 - val_loss: 0.0140\n",
      "Epoch 74/100\n",
      "\u001b[1m327/327\u001b[0m \u001b[32m━━━━━━━━━━━━━━━━━━━━\u001b[0m\u001b[37m\u001b[0m \u001b[1m237s\u001b[0m 723ms/step - accuracy: 0.9992 - loss: 0.0028 - val_accuracy: 0.9966 - val_loss: 0.0142\n",
      "Epoch 75/100\n",
      "\u001b[1m327/327\u001b[0m \u001b[32m━━━━━━━━━━━━━━━━━━━━\u001b[0m\u001b[37m\u001b[0m \u001b[1m236s\u001b[0m 723ms/step - accuracy: 0.9991 - loss: 0.0028 - val_accuracy: 0.9966 - val_loss: 0.0143\n",
      "Epoch 76/100\n",
      "\u001b[1m327/327\u001b[0m \u001b[32m━━━━━━━━━━━━━━━━━━━━\u001b[0m\u001b[37m\u001b[0m \u001b[1m235s\u001b[0m 719ms/step - accuracy: 0.9991 - loss: 0.0029 - val_accuracy: 0.9966 - val_loss: 0.0145\n",
      "Epoch 77/100\n",
      "\u001b[1m327/327\u001b[0m \u001b[32m━━━━━━━━━━━━━━━━━━━━\u001b[0m\u001b[37m\u001b[0m \u001b[1m238s\u001b[0m 728ms/step - accuracy: 0.9992 - loss: 0.0028 - val_accuracy: 0.9966 - val_loss: 0.0146\n",
      "Epoch 78/100\n",
      "\u001b[1m327/327\u001b[0m \u001b[32m━━━━━━━━━━━━━━━━━━━━\u001b[0m\u001b[37m\u001b[0m \u001b[1m237s\u001b[0m 724ms/step - accuracy: 0.9992 - loss: 0.0027 - val_accuracy: 0.9966 - val_loss: 0.0144\n",
      "Epoch 79/100\n",
      "\u001b[1m327/327\u001b[0m \u001b[32m━━━━━━━━━━━━━━━━━━━━\u001b[0m\u001b[37m\u001b[0m \u001b[1m235s\u001b[0m 718ms/step - accuracy: 0.9992 - loss: 0.0027 - val_accuracy: 0.9966 - val_loss: 0.0145\n",
      "Epoch 80/100\n",
      "\u001b[1m327/327\u001b[0m \u001b[32m━━━━━━━━━━━━━━━━━━━━\u001b[0m\u001b[37m\u001b[0m \u001b[1m237s\u001b[0m 723ms/step - accuracy: 0.9992 - loss: 0.0028 - val_accuracy: 0.9967 - val_loss: 0.0146\n",
      "Epoch 81/100\n",
      "\u001b[1m327/327\u001b[0m \u001b[32m━━━━━━━━━━━━━━━━━━━━\u001b[0m\u001b[37m\u001b[0m \u001b[1m237s\u001b[0m 723ms/step - accuracy: 0.9992 - loss: 0.0028 - val_accuracy: 0.9966 - val_loss: 0.0149\n",
      "Epoch 82/100\n",
      "\u001b[1m327/327\u001b[0m \u001b[32m━━━━━━━━━━━━━━━━━━━━\u001b[0m\u001b[37m\u001b[0m \u001b[1m235s\u001b[0m 719ms/step - accuracy: 0.9992 - loss: 0.0027 - val_accuracy: 0.9966 - val_loss: 0.0149\n",
      "Epoch 83/100\n",
      "\u001b[1m327/327\u001b[0m \u001b[32m━━━━━━━━━━━━━━━━━━━━\u001b[0m\u001b[37m\u001b[0m \u001b[1m238s\u001b[0m 728ms/step - accuracy: 0.9992 - loss: 0.0026 - val_accuracy: 0.9966 - val_loss: 0.0151\n",
      "Epoch 84/100\n",
      "\u001b[1m327/327\u001b[0m \u001b[32m━━━━━━━━━━━━━━━━━━━━\u001b[0m\u001b[37m\u001b[0m \u001b[1m238s\u001b[0m 729ms/step - accuracy: 0.9992 - loss: 0.0027 - val_accuracy: 0.9966 - val_loss: 0.0150\n",
      "Epoch 85/100\n",
      "\u001b[1m327/327\u001b[0m \u001b[32m━━━━━━━━━━━━━━━━━━━━\u001b[0m\u001b[37m\u001b[0m \u001b[1m235s\u001b[0m 717ms/step - accuracy: 0.9992 - loss: 0.0026 - val_accuracy: 0.9966 - val_loss: 0.0152\n",
      "Epoch 86/100\n",
      "\u001b[1m327/327\u001b[0m \u001b[32m━━━━━━━━━━━━━━━━━━━━\u001b[0m\u001b[37m\u001b[0m \u001b[1m238s\u001b[0m 728ms/step - accuracy: 0.9992 - loss: 0.0026 - val_accuracy: 0.9965 - val_loss: 0.0153\n",
      "Epoch 87/100\n",
      "\u001b[1m327/327\u001b[0m \u001b[32m━━━━━━━━━━━━━━━━━━━━\u001b[0m\u001b[37m\u001b[0m \u001b[1m239s\u001b[0m 730ms/step - accuracy: 0.9992 - loss: 0.0026 - val_accuracy: 0.9966 - val_loss: 0.0153\n",
      "Epoch 88/100\n",
      "\u001b[1m327/327\u001b[0m \u001b[32m━━━━━━━━━━━━━━━━━━━━\u001b[0m\u001b[37m\u001b[0m \u001b[1m238s\u001b[0m 727ms/step - accuracy: 0.9993 - loss: 0.0025 - val_accuracy: 0.9966 - val_loss: 0.0155\n",
      "Epoch 89/100\n",
      "\u001b[1m327/327\u001b[0m \u001b[32m━━━━━━━━━━━━━━━━━━━━\u001b[0m\u001b[37m\u001b[0m \u001b[1m236s\u001b[0m 721ms/step - accuracy: 0.9993 - loss: 0.0025 - val_accuracy: 0.9966 - val_loss: 0.0156\n",
      "Epoch 90/100\n",
      "\u001b[1m327/327\u001b[0m \u001b[32m━━━━━━━━━━━━━━━━━━━━\u001b[0m\u001b[37m\u001b[0m \u001b[1m234s\u001b[0m 715ms/step - accuracy: 0.9992 - loss: 0.0027 - val_accuracy: 0.9966 - val_loss: 0.0156\n",
      "Epoch 91/100\n",
      "\u001b[1m327/327\u001b[0m \u001b[32m━━━━━━━━━━━━━━━━━━━━\u001b[0m\u001b[37m\u001b[0m \u001b[1m238s\u001b[0m 727ms/step - accuracy: 0.9993 - loss: 0.0026 - val_accuracy: 0.9966 - val_loss: 0.0156\n",
      "Epoch 92/100\n",
      "\u001b[1m327/327\u001b[0m \u001b[32m━━━━━━━━━━━━━━━━━━━━\u001b[0m\u001b[37m\u001b[0m \u001b[1m236s\u001b[0m 720ms/step - accuracy: 0.9993 - loss: 0.0025 - val_accuracy: 0.9966 - val_loss: 0.0158\n",
      "Epoch 93/100\n",
      "\u001b[1m327/327\u001b[0m \u001b[32m━━━━━━━━━━━━━━━━━━━━\u001b[0m\u001b[37m\u001b[0m \u001b[1m237s\u001b[0m 724ms/step - accuracy: 0.9993 - loss: 0.0025 - val_accuracy: 0.9965 - val_loss: 0.0159\n",
      "Epoch 94/100\n",
      "\u001b[1m327/327\u001b[0m \u001b[32m━━━━━━━━━━━━━━━━━━━━\u001b[0m\u001b[37m\u001b[0m \u001b[1m247s\u001b[0m 754ms/step - accuracy: 0.9993 - loss: 0.0025 - val_accuracy: 0.9965 - val_loss: 0.0161\n",
      "Epoch 95/100\n",
      "\u001b[1m327/327\u001b[0m \u001b[32m━━━━━━━━━━━━━━━━━━━━\u001b[0m\u001b[37m\u001b[0m \u001b[1m241s\u001b[0m 736ms/step - accuracy: 0.9993 - loss: 0.0025 - val_accuracy: 0.9965 - val_loss: 0.0162\n",
      "Epoch 96/100\n",
      "\u001b[1m327/327\u001b[0m \u001b[32m━━━━━━━━━━━━━━━━━━━━\u001b[0m\u001b[37m\u001b[0m \u001b[1m239s\u001b[0m 729ms/step - accuracy: 0.9993 - loss: 0.0024 - val_accuracy: 0.9965 - val_loss: 0.0162\n",
      "Epoch 97/100\n",
      "\u001b[1m327/327\u001b[0m \u001b[32m━━━━━━━━━━━━━━━━━━━━\u001b[0m\u001b[37m\u001b[0m \u001b[1m236s\u001b[0m 721ms/step - accuracy: 0.9993 - loss: 0.0024 - val_accuracy: 0.9965 - val_loss: 0.0162\n",
      "Epoch 98/100\n",
      "\u001b[1m327/327\u001b[0m \u001b[32m━━━━━━━━━━━━━━━━━━━━\u001b[0m\u001b[37m\u001b[0m \u001b[1m236s\u001b[0m 722ms/step - accuracy: 0.9993 - loss: 0.0024 - val_accuracy: 0.9965 - val_loss: 0.0164\n",
      "Epoch 99/100\n",
      "\u001b[1m327/327\u001b[0m \u001b[32m━━━━━━━━━━━━━━━━━━━━\u001b[0m\u001b[37m\u001b[0m \u001b[1m237s\u001b[0m 725ms/step - accuracy: 0.9993 - loss: 0.0024 - val_accuracy: 0.9965 - val_loss: 0.0164\n",
      "Epoch 100/100\n",
      "\u001b[1m327/327\u001b[0m \u001b[32m━━━━━━━━━━━━━━━━━━━━\u001b[0m\u001b[37m\u001b[0m \u001b[1m243s\u001b[0m 743ms/step - accuracy: 0.9993 - loss: 0.0023 - val_accuracy: 0.9965 - val_loss: 0.0164\n"
     ]
    },
    {
     "data": {
      "text/plain": [
       "<keras.src.callbacks.history.History at 0x296dc6903d0>"
      ]
     },
     "execution_count": 42,
     "metadata": {},
     "output_type": "execute_result"
    }
   ],
   "source": [
    "model.fit(final_x_d,final_y_d,epochs=100,batch_size=150,validation_split=0.2)"
   ]
  },
  {
   "cell_type": "code",
   "execution_count": 43,
   "id": "7e38568e",
   "metadata": {},
   "outputs": [],
   "source": [
    "te=[\"Summer is one of the four temperate seasons, occurring after spring and before autumn.\"]"
   ]
  },
  {
   "cell_type": "code",
   "execution_count": 44,
   "id": "50c5d816",
   "metadata": {},
   "outputs": [
    {
     "data": {
      "text/plain": [
       "['Summer is one of the four temperate seasons, occurring after spring and before autumn.']"
      ]
     },
     "execution_count": 44,
     "metadata": {},
     "output_type": "execute_result"
    }
   ],
   "source": [
    "te"
   ]
  },
  {
   "cell_type": "code",
   "execution_count": 45,
   "id": "46a8344c",
   "metadata": {},
   "outputs": [
    {
     "data": {
      "text/plain": [
       "[[810, 10, 40, 4, 1, 285, 23730, 6009, 5174, 99, 866, 5, 104, 4544]]"
      ]
     },
     "execution_count": 45,
     "metadata": {},
     "output_type": "execute_result"
    }
   ],
   "source": [
    "tk_x.texts_to_sequences(te)"
   ]
  },
  {
   "cell_type": "code",
   "execution_count": 46,
   "id": "fdf9b9cb",
   "metadata": {},
   "outputs": [
    {
     "data": {
      "text/plain": [
       "['summer is one of the four temperate seasons occurring after spring and before autumn']"
      ]
     },
     "execution_count": 46,
     "metadata": {},
     "output_type": "execute_result"
    }
   ],
   "source": [
    "tk_x.sequences_to_texts(tk_x.texts_to_sequences(te))"
   ]
  },
  {
   "cell_type": "code",
   "execution_count": 47,
   "id": "f4ce04aa",
   "metadata": {},
   "outputs": [],
   "source": [
    "test=pad_sequences(tk_x.texts_to_sequences(te),maxlen=271,padding='post')"
   ]
  },
  {
   "cell_type": "code",
   "execution_count": 48,
   "id": "f8005f49",
   "metadata": {},
   "outputs": [
    {
     "name": "stdout",
     "output_type": "stream",
     "text": [
      "\u001b[1m1/1\u001b[0m \u001b[32m━━━━━━━━━━━━━━━━━━━━\u001b[0m\u001b[37m\u001b[0m \u001b[1m12s\u001b[0m 12s/step\n"
     ]
    },
    {
     "data": {
      "text/plain": [
       "(1, 271, 13)"
      ]
     },
     "execution_count": 48,
     "metadata": {},
     "output_type": "execute_result"
    }
   ],
   "source": [
    "model.predict(test).shape"
   ]
  },
  {
   "cell_type": "code",
   "execution_count": 49,
   "id": "f5a20f12",
   "metadata": {},
   "outputs": [],
   "source": [
    "import numpy as np"
   ]
  },
  {
   "cell_type": "code",
   "execution_count": 50,
   "id": "4bd35260",
   "metadata": {},
   "outputs": [
    {
     "name": "stdout",
     "output_type": "stream",
     "text": [
      "\u001b[1m1/1\u001b[0m \u001b[32m━━━━━━━━━━━━━━━━━━━━\u001b[0m\u001b[37m\u001b[0m \u001b[1m0s\u001b[0m 38ms/step\n",
      "\u001b[1m1/1\u001b[0m \u001b[32m━━━━━━━━━━━━━━━━━━━━\u001b[0m\u001b[37m\u001b[0m \u001b[1m0s\u001b[0m 38ms/step\n"
     ]
    },
    {
     "data": {
      "text/plain": [
       "array([ 1,  2, 11,  4,  5, 11,  6,  1,  2,  4,  1,  9,  4,  1],\n",
       "      dtype=int64)"
      ]
     },
     "execution_count": 50,
     "metadata": {},
     "output_type": "execute_result"
    }
   ],
   "source": [
    "np.argmax(model.predict(test)[0],axis=1)[np.argmax(model.predict(test)[0],axis=1)!=0]"
   ]
  },
  {
   "cell_type": "code",
   "execution_count": 51,
   "id": "61276892",
   "metadata": {},
   "outputs": [
    {
     "data": {
      "text/plain": [
       "['noun noun noun verb verb noun noun det . .']"
      ]
     },
     "execution_count": 51,
     "metadata": {},
     "output_type": "execute_result"
    }
   ],
   "source": [
    "tk_y.sequences_to_texts([[1,1,1,2,2,1,1,5,3,3]])"
   ]
  },
  {
   "cell_type": "code",
   "execution_count": 53,
   "id": "4f6439da-a8e3-4bf3-84f2-c869a9c8fc0c",
   "metadata": {},
   "outputs": [],
   "source": [
    "import pickle"
   ]
  },
  {
   "cell_type": "code",
   "execution_count": 54,
   "id": "5496b0f1-22a5-4688-8909-d59c9e37bdf0",
   "metadata": {},
   "outputs": [],
   "source": [
    "pickle.dump(model,open(\"pos_model.pkl\",\"wb\"))"
   ]
  },
  {
   "cell_type": "code",
   "execution_count": 55,
   "id": "5e4b20c7-36a7-47f0-97d8-48ec5d167a71",
   "metadata": {},
   "outputs": [],
   "source": [
    "pickle.dump(tk_x,open(\"tk_x.pkl\",\"wb\"))\n",
    "pickle.dump(tk_y,open(\"tk_y.pkl\",\"wb\"))"
   ]
  },
  {
   "cell_type": "code",
   "execution_count": 56,
   "id": "f9c32043",
   "metadata": {},
   "outputs": [],
   "source": [
    "t1 = [\" \".join(x[0])]"
   ]
  },
  {
   "cell_type": "code",
   "execution_count": 57,
   "id": "f6f7acbf",
   "metadata": {},
   "outputs": [
    {
     "data": {
      "text/plain": [
       "[[5594, 21728, 9068, 105, 158, 53, 1748, 1, 344, 18, 7, 13148, 880, 4000]]"
      ]
     },
     "execution_count": 57,
     "metadata": {},
     "output_type": "execute_result"
    }
   ],
   "source": [
    "tk_x.texts_to_sequences(t1)"
   ]
  },
  {
   "cell_type": "code",
   "execution_count": 58,
   "id": "f2f1a3ba",
   "metadata": {},
   "outputs": [
    {
     "data": {
      "text/plain": [
       "['pierre vinken 61 years old will join the board as a nonexecutive director 29']"
      ]
     },
     "execution_count": 58,
     "metadata": {},
     "output_type": "execute_result"
    }
   ],
   "source": [
    "tk_x.sequences_to_texts(tk_x.texts_to_sequences(t1))"
   ]
  },
  {
   "cell_type": "code",
   "execution_count": 59,
   "id": "63cdb439",
   "metadata": {},
   "outputs": [],
   "source": [
    "test_2=pad_sequences(tk_x.texts_to_sequences(t1),maxlen=271,padding='post')"
   ]
  },
  {
   "cell_type": "code",
   "execution_count": 60,
   "id": "e22b899d",
   "metadata": {},
   "outputs": [
    {
     "name": "stdout",
     "output_type": "stream",
     "text": [
      "\u001b[1m1/1\u001b[0m \u001b[32m━━━━━━━━━━━━━━━━━━━━\u001b[0m\u001b[37m\u001b[0m \u001b[1m0s\u001b[0m 31ms/step\n"
     ]
    },
    {
     "data": {
      "text/plain": [
       "(1, 271, 13)"
      ]
     },
     "execution_count": 60,
     "metadata": {},
     "output_type": "execute_result"
    }
   ],
   "source": [
    "model.predict(test_2).shape"
   ]
  },
  {
   "cell_type": "code",
   "execution_count": 61,
   "id": "37c9091e",
   "metadata": {},
   "outputs": [
    {
     "name": "stdout",
     "output_type": "stream",
     "text": [
      "\u001b[1m1/1\u001b[0m \u001b[32m━━━━━━━━━━━━━━━━━━━━\u001b[0m\u001b[37m\u001b[0m \u001b[1m0s\u001b[0m 31ms/step\n",
      "\u001b[1m1/1\u001b[0m \u001b[32m━━━━━━━━━━━━━━━━━━━━\u001b[0m\u001b[37m\u001b[0m \u001b[1m0s\u001b[0m 31ms/step\n"
     ]
    },
    {
     "data": {
      "text/plain": [
       "array([ 1,  1, 11,  1,  6,  2,  2,  5,  1,  7,  5,  6,  1, 11],\n",
       "      dtype=int64)"
      ]
     },
     "execution_count": 61,
     "metadata": {},
     "output_type": "execute_result"
    }
   ],
   "source": [
    "np.argmax(model.predict(test_2)[0],axis=1)[np.argmax(model.predict(test_2)[0],axis=1)!=0]"
   ]
  },
  {
   "cell_type": "code",
   "execution_count": 62,
   "id": "c06c404d",
   "metadata": {},
   "outputs": [
    {
     "data": {
      "text/plain": [
       "['noun noun noun noun adp verb verb det noun adp det noun noun noun']"
      ]
     },
     "execution_count": 62,
     "metadata": {},
     "output_type": "execute_result"
    }
   ],
   "source": [
    "tk_y.sequences_to_texts([[1, 1, 1, 1, 4, 2, 2, 5, 1, 4, 5, 1, 1, 1]])"
   ]
  },
  {
   "cell_type": "code",
   "execution_count": null,
   "id": "97370c98",
   "metadata": {},
   "outputs": [],
   "source": []
  }
 ],
 "metadata": {
  "kernelspec": {
   "display_name": "Python 3 (ipykernel)",
   "language": "python",
   "name": "python3"
  },
  "language_info": {
   "codemirror_mode": {
    "name": "ipython",
    "version": 3
   },
   "file_extension": ".py",
   "mimetype": "text/x-python",
   "name": "python",
   "nbconvert_exporter": "python",
   "pygments_lexer": "ipython3",
   "version": "3.11.7"
  }
 },
 "nbformat": 4,
 "nbformat_minor": 5
}
